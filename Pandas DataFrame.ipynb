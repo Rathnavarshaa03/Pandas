{
 "cells": [
  {
   "cell_type": "code",
   "execution_count": 3,
   "id": "834afd1e",
   "metadata": {},
   "outputs": [
    {
     "name": "stdout",
     "output_type": "stream",
     "text": [
      "\n",
      " Original DataFrame:\n",
      "    S  R\n",
      "0  3  9\n",
      "1  3  9\n",
      "2  3  9\n",
      "3  3  9\n",
      "\n",
      " Square root:\n",
      "           S    R\n",
      "0  1.732051  3.0\n",
      "1  1.732051  3.0\n",
      "2  1.732051  3.0\n",
      "3  1.732051  3.0\n",
      "\n",
      " Sum of each column:\n",
      "  S    12\n",
      "R    36\n",
      "dtype: int64\n",
      "\n",
      " Sum of each rows:\n",
      " 0    12\n",
      "1    12\n",
      "2    12\n",
      "3    12\n",
      "dtype: int64\n"
     ]
    }
   ],
   "source": [
    "import pandas as pd\n",
    "import numpy as np\n",
    "info=pd.DataFrame([[3,9]]*4,columns=['S','R'])\n",
    "print(\"\\n Original DataFrame:\\n\",info)\n",
    "print(\"\\n Square root:\\n\",info.apply(np.sqrt))\n",
    "print(\"\\n Sum of each column:\\n \",info.apply(np.sum,axis=0))\n",
    "print(\"\\n Sum of each rows:\\n\",info.apply(np.sum,axis=1))"
   ]
  },
  {
   "cell_type": "code",
   "execution_count": 6,
   "id": "022264c7",
   "metadata": {},
   "outputs": [
    {
     "name": "stdout",
     "output_type": "stream",
     "text": [
      "   X  Y  Z\n",
      "0  2  4  6\n",
      "1  1  3  5\n",
      "2  5  8  7\n",
      "     X  Y  Z\n",
      "min  1  3  5\n",
      "max  5  8  7\n"
     ]
    }
   ],
   "source": [
    "import pandas as pd\n",
    "import numpy as np\n",
    "info=pd.DataFrame([[2,4,6],[1,3,5],[5,8,7]],columns=['X','Y','Z'])\n",
    "print(info)\n",
    "print(info.agg(['min','max']))"
   ]
  },
  {
   "cell_type": "code",
   "execution_count": 15,
   "id": "f68dbe2a",
   "metadata": {},
   "outputs": [
    {
     "name": "stdout",
     "output_type": "stream",
     "text": [
      "  EmpName  ID\n",
      "0     Sai  88\n",
      "1    Ajay  70\n",
      "\n",
      " Adding new column:\n",
      "   EmpName  ID  Age\n",
      "0     Sai  88   20\n",
      "1    Ajay  70   18\n",
      "Adding new colunm:\n",
      "   EmpName  ID  Age     Sex\n",
      "0     Sai  88   20    Male\n",
      "1    Ajay  70   18  Female\n"
     ]
    }
   ],
   "source": [
    "import pandas as pd\n",
    "import numpy as np\n",
    "d2=pd.DataFrame([['Sai',88],['Ajay',70]],columns=['EmpName','ID'])\n",
    "print(d2)\n",
    "d2['Age']=[20,18]\n",
    "print(\"\\n Adding new column:\\n\",d2)\n",
    "d2['Sex']=['Male','Female']\n",
    "print(\"Adding new colunm:\\n\",d2)"
   ]
  },
  {
   "cell_type": "code",
   "execution_count": 17,
   "id": "e7b6546f",
   "metadata": {},
   "outputs": [
    {
     "name": "stdout",
     "output_type": "stream",
     "text": [
      "  EmpName  ID\n",
      "0     Sai  88\n",
      "1    Ajay  70\n",
      "Adding a new column:\n",
      "   EmpName  ID  Age\n",
      "0     Sai  88   20\n",
      "1    Ajay  70   18\n"
     ]
    }
   ],
   "source": [
    "#to add a new column\n",
    "import pandas as pd\n",
    "import numpy as np\n",
    "d2=pd.DataFrame([['Sai',88],['Ajay',70]],columns=['EmpName','ID'])\n",
    "print(d2)\n",
    "a=d2.assign(Age=[20,18])\n",
    "print(\"Adding a new column:\\n\",a)"
   ]
  },
  {
   "cell_type": "code",
   "execution_count": 29,
   "id": "e4987486",
   "metadata": {},
   "outputs": [
    {
     "name": "stdout",
     "output_type": "stream",
     "text": [
      "       col1      col2\n",
      "3  1.225511 -0.751053\n",
      "2  0.274409  0.817962\n",
      "0 -1.847646  0.776281\n",
      "4 -1.004699 -0.366656\n",
      "1 -2.381126  1.754664\n",
      "       col1      col2\n",
      "0 -1.847646  0.776281\n",
      "1 -2.381126  1.754664\n",
      "2  0.274409  0.817962\n",
      "3  1.225511 -0.751053\n",
      "4 -1.004699 -0.366656\n",
      "       col1      col2\n",
      "3  1.225511 -0.751053\n",
      "4 -1.004699 -0.366656\n",
      "0 -1.847646  0.776281\n",
      "2  0.274409  0.817962\n",
      "1 -2.381126  1.754664\n",
      "       col1      col2\n",
      "1 -2.381126  1.754664\n",
      "0 -1.847646  0.776281\n",
      "4 -1.004699 -0.366656\n",
      "2  0.274409  0.817962\n",
      "3  1.225511 -0.751053\n"
     ]
    }
   ],
   "source": [
    "import pandas as pd\n",
    "import numpy as np\n",
    "info=pd.DataFrame(np.random.randn(5,2),index=[3,2,0,4,1],columns=['col1','col2'])\n",
    "print(info)\n",
    "info2=info.sort_index()\n",
    "print(info2)\n",
    "info3=info.sort_values(by='col2')\n",
    "print(info3)\n",
    "info4=info.sort_values(by='col1')\n",
    "print(info4)\n"
   ]
  },
  {
   "cell_type": "code",
   "execution_count": 1,
   "id": "43adcb0d",
   "metadata": {},
   "outputs": [
    {
     "name": "stdout",
     "output_type": "stream",
     "text": [
      "   id  Name   sub\n",
      "0   1   Sai  sub1\n",
      "1   2   Anu  sub2\n",
      "2   3  Bala  sub4\n",
      "3   4  Raya  sub3\n",
      "   id    Name   sub\n",
      "0   1  Sanjay  sub2\n",
      "1   2   Surya  sub4\n",
      "2   3   Saran  sub3\n",
      "3   4     Sam  sub5\n",
      "   id Name_x sub_x  Name_y sub_y\n",
      "0   1    Sai  sub1  Sanjay  sub2\n",
      "1   2    Anu  sub2   Surya  sub4\n",
      "2   3   Bala  sub4   Saran  sub3\n",
      "3   4   Raya  sub3     Sam  sub5\n"
     ]
    }
   ],
   "source": [
    "import pandas as pd\n",
    "import numpy as np  \n",
    "left=pd.DataFrame({'id':[1,2,3,4],'Name':['Sai','Anu','Bala','Raya'],'sub':['sub1','sub2','sub4','sub3']})\n",
    "right=pd.DataFrame({'id':[1,2,3,4],'Name':['Sanjay','Surya','Saran','Sam'],'sub':['sub2','sub4','sub3','sub5']})\n",
    "print(left)\n",
    "print(right)\n",
    "print(pd.merge(left,right,on='id'))\n",
    "                                    "
   ]
  },
  {
   "cell_type": "code",
   "execution_count": null,
   "id": "58df042f",
   "metadata": {},
   "outputs": [],
   "source": []
  }
 ],
 "metadata": {
  "kernelspec": {
   "display_name": "Python 3 (ipykernel)",
   "language": "python",
   "name": "python3"
  },
  "language_info": {
   "codemirror_mode": {
    "name": "ipython",
    "version": 3
   },
   "file_extension": ".py",
   "mimetype": "text/x-python",
   "name": "python",
   "nbconvert_exporter": "python",
   "pygments_lexer": "ipython3",
   "version": "3.11.5"
  }
 },
 "nbformat": 4,
 "nbformat_minor": 5
}
