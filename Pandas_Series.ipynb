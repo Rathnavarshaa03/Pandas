{
  "cells": [
    {
      "cell_type": "code",
      "execution_count": 1,
      "id": "f29b3d38",
      "metadata": {
        "colab": {
          "base_uri": "https://localhost:8080/"
        },
        "id": "f29b3d38",
        "outputId": "fd2644bb-b74f-4bdb-ab5c-a4fd44a6481a"
      },
      "outputs": [
        {
          "output_type": "stream",
          "name": "stdout",
          "text": [
            "0    R\n",
            "1    a\n",
            "2    t\n",
            "3    h\n",
            "4    n\n",
            "5    a\n",
            "dtype: object\n"
          ]
        }
      ],
      "source": [
        "import pandas as pd\n",
        "import numpy as np\n",
        "arr=np.array(['R','a','t','h','n','a'])\n",
        "a=pd.Series(arr)\n",
        "print(a)"
      ]
    },
    {
      "cell_type": "code",
      "execution_count": 2,
      "id": "5a8ddc74",
      "metadata": {
        "colab": {
          "base_uri": "https://localhost:8080/"
        },
        "id": "5a8ddc74",
        "outputId": "1406d9af-4d8c-4a6c-8865-6de9dd301c85"
      },
      "outputs": [
        {
          "output_type": "stream",
          "name": "stdout",
          "text": [
            "a    0\n",
            "b    1\n",
            "c    2\n",
            "dtype: int64\n"
          ]
        }
      ],
      "source": [
        "import pandas as pd\n",
        "import numpy as np\n",
        "arr={'a':0,'b':1,'c':2}\n",
        "a=pd.Series(arr)\n",
        "print(a)"
      ]
    },
    {
      "cell_type": "code",
      "execution_count": 3,
      "id": "2c1c63ee",
      "metadata": {
        "colab": {
          "base_uri": "https://localhost:8080/"
        },
        "id": "2c1c63ee",
        "outputId": "278421c9-3562-4444-e53c-6e47ac5c31ed"
      },
      "outputs": [
        {
          "output_type": "stream",
          "name": "stdout",
          "text": [
            "0    4\n",
            "1    4\n",
            "2    4\n",
            "3    4\n",
            "dtype: int64\n"
          ]
        }
      ],
      "source": [
        "import pandas as pd\n",
        "import numpy as np\n",
        "scalar=pd.Series(4,index=[0,1,2,3])\n",
        "print(scalar)"
      ]
    },
    {
      "cell_type": "code",
      "execution_count": 4,
      "id": "49c1e3e8",
      "metadata": {
        "colab": {
          "base_uri": "https://localhost:8080/"
        },
        "id": "49c1e3e8",
        "outputId": "dcde8a26-11f3-4455-ef36-2eb5b368da74"
      },
      "outputs": [
        {
          "output_type": "stream",
          "name": "stdout",
          "text": [
            "\n",
            " Series:\n",
            " a    0\n",
            "b    1\n",
            "c    2\n",
            "dtype: int64\n",
            "\n",
            " Index:\n",
            " Index(['a', 'b', 'c'], dtype='object')\n",
            "\n",
            " Values:\n",
            " [0 1 2]\n",
            "\n",
            " Shape:\n",
            " (3,)\n",
            "\n",
            " Dimension:\n",
            " 1\n",
            "\n",
            " Size:\n",
            " 3\n"
          ]
        }
      ],
      "source": [
        "\n",
        "print(\"\\n Series:\\n\",a)\n",
        "print(\"\\n Index:\\n\",a.index)\n",
        "print(\"\\n Values:\\n\",a.values)\n",
        "print(\"\\n Shape:\\n\",a.shape)\n",
        "print(\"\\n Dimension:\\n\",a.ndim)\n",
        "print(\"\\n Size:\\n\",a.size)"
      ]
    },
    {
      "cell_type": "code",
      "execution_count": 4,
      "id": "7853e29c",
      "metadata": {
        "id": "7853e29c"
      },
      "outputs": [],
      "source": []
    }
  ],
  "metadata": {
    "kernelspec": {
      "display_name": "Python 3 (ipykernel)",
      "language": "python",
      "name": "python3"
    },
    "language_info": {
      "codemirror_mode": {
        "name": "ipython",
        "version": 3
      },
      "file_extension": ".py",
      "mimetype": "text/x-python",
      "name": "python",
      "nbconvert_exporter": "python",
      "pygments_lexer": "ipython3",
      "version": "3.11.5"
    },
    "colab": {
      "provenance": []
    }
  },
  "nbformat": 4,
  "nbformat_minor": 5
}