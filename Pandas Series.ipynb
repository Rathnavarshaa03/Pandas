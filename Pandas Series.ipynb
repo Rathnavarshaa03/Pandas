{
 "cells": [
  {
   "cell_type": "code",
   "execution_count": 9,
   "id": "f29b3d38",
   "metadata": {},
   "outputs": [
    {
     "name": "stdout",
     "output_type": "stream",
     "text": [
      "0    M\n",
      "1    i\n",
      "2    t\n",
      "3    h\n",
      "4    a\n",
      "5    l\n",
      "6    i\n",
      "dtype: object\n"
     ]
    }
   ],
   "source": [
    "import pandas as pd\n",
    "import numpy as np\n",
    "arr=np.array(['M','i','t','h','a','l','i'])\n",
    "a=pd.Series(arr)\n",
    "print(a)"
   ]
  },
  {
   "cell_type": "code",
   "execution_count": 4,
   "id": "5a8ddc74",
   "metadata": {},
   "outputs": [
    {
     "name": "stdout",
     "output_type": "stream",
     "text": [
      "a    0\n",
      "b    1\n",
      "c    2\n",
      "dtype: int64\n"
     ]
    }
   ],
   "source": [
    "import pandas as pd\n",
    "import numpy as np\n",
    "arr={'a':0,'b':1,'c':2}\n",
    "a=pd.Series(arr)\n",
    "print(a)"
   ]
  },
  {
   "cell_type": "code",
   "execution_count": 5,
   "id": "2c1c63ee",
   "metadata": {},
   "outputs": [
    {
     "name": "stdout",
     "output_type": "stream",
     "text": [
      "0    4\n",
      "1    4\n",
      "2    4\n",
      "3    4\n",
      "dtype: int64\n"
     ]
    }
   ],
   "source": [
    "import pandas as pd\n",
    "import numpy as np\n",
    "scalar=pd.Series(4,index=[0,1,2,3])\n",
    "print(scalar)"
   ]
  },
  {
   "cell_type": "code",
   "execution_count": 10,
   "id": "49c1e3e8",
   "metadata": {},
   "outputs": [
    {
     "name": "stdout",
     "output_type": "stream",
     "text": [
      "\n",
      " Series:\n",
      " 0    M\n",
      "1    i\n",
      "2    t\n",
      "3    h\n",
      "4    a\n",
      "5    l\n",
      "6    i\n",
      "dtype: object\n",
      "\n",
      " Index:\n",
      " RangeIndex(start=0, stop=7, step=1)\n",
      "\n",
      " Values:\n",
      " ['M' 'i' 't' 'h' 'a' 'l' 'i']\n",
      "\n",
      " Shape:\n",
      " (7,)\n",
      "\n",
      " Dimension:\n",
      " 1\n",
      "\n",
      " Size:\n",
      " 7\n"
     ]
    }
   ],
   "source": [
    "\n",
    "print(\"\\n Series:\\n\",a)\n",
    "print(\"\\n Index:\\n\",a.index)\n",
    "print(\"\\n Values:\\n\",a.values)\n",
    "print(\"\\n Shape:\\n\",a.shape)\n",
    "print(\"\\n Dimension:\\n\",a.ndim)\n",
    "print(\"\\n Size:\\n\",a.size)"
   ]
  },
  {
   "cell_type": "code",
   "execution_count": null,
   "id": "7853e29c",
   "metadata": {},
   "outputs": [],
   "source": []
  }
 ],
 "metadata": {
  "kernelspec": {
   "display_name": "Python 3 (ipykernel)",
   "language": "python",
   "name": "python3"
  },
  "language_info": {
   "codemirror_mode": {
    "name": "ipython",
    "version": 3
   },
   "file_extension": ".py",
   "mimetype": "text/x-python",
   "name": "python",
   "nbconvert_exporter": "python",
   "pygments_lexer": "ipython3",
   "version": "3.11.5"
  }
 },
 "nbformat": 4,
 "nbformat_minor": 5
}
